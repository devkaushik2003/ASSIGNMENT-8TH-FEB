{
 "cells": [
  {
   "cell_type": "code",
   "execution_count": 4,
   "id": "d1acf5fc-297a-4be3-b390-c6412aafa2b3",
   "metadata": {},
   "outputs": [
    {
     "name": "stdout",
     "output_type": "stream",
     "text": [
      "The mileage is 30kmph\n",
      "The mileage is 27kmph \n",
      "The mileage is 25kmph \n",
      "The mileage is 24kmph \n"
     ]
    }
   ],
   "source": [
    "#Abstraction means hiding the complicated parts of something and showing only the important parts.\n",
    "#In object-oriented programming, abstraction is achieved by creating classes and interfaces.\n",
    "from abc import ABC, abstractmethod   \n",
    "class Car(ABC):   \n",
    "    def mileage(self):   \n",
    "        pass  \n",
    "  \n",
    "class Tesla(Car):   \n",
    "    def mileage(self):   \n",
    "        print(\"The mileage is 30kmph\")   \n",
    "class Suzuki(Car):   \n",
    "    def mileage(self):   \n",
    "        print(\"The mileage is 25kmph \")   \n",
    "class Duster(Car):   \n",
    "     def mileage(self):   \n",
    "          print(\"The mileage is 24kmph \")   \n",
    "  \n",
    "class Renault(Car):   \n",
    "    def mileage(self):   \n",
    "            print(\"The mileage is 27kmph \")   \n",
    "          \n",
    "# Driver code   \n",
    "t= Tesla ()   \n",
    "t.mileage()   \n",
    "  \n",
    "r = Renault()   \n",
    "r.mileage()     \n",
    "s = Suzuki()   \n",
    "s.mileage()   \n",
    "d = Duster()   \n",
    "d.mileage() "
   ]
  },
  {
   "cell_type": "code",
   "execution_count": 19,
   "id": "6bad87e6-80e6-41c6-bed9-d8792ff744ed",
   "metadata": {
    "tags": []
   },
   "outputs": [],
   "source": [
    "# Abstraction is the process of representing complex real-world problems in a simplified manner.\n",
    "# It focuses on the essential features of an object, ignoring the non-essential details.\n",
    "# Abstraction provides a way to manage complexity and make it easier to understand and modify the system.\n",
    "\n",
    "# Encapsulation, on the other hand, is a technique used to hide the internal details of an object from the outside world. \n",
    "# It is a way to protect the internal state of an object from being modified or accessed directly by other objects.\n",
    "# Encapsulation provides data security and improves the maintainability of the code.\n",
    "class bank_account : \n",
    "    def __init__(self , balance) : \n",
    "        self.__balanace = balance \n",
    "        \n",
    "    def deposit(self , amount) : \n",
    "        self.__balanace = self.__balanace + amount\n",
    "        \n",
    "    def withdaw(self ,amount) : \n",
    "        if self.__balanace >= amount :\n",
    "            self.__balanace = self.__balanace - amount\n",
    "            return True\n",
    "        else : \n",
    "            return False\n",
    "    \n",
    "    def get_banalnce(self):\n",
    "        return self.__balanace\n",
    "                  \n",
    "    "
   ]
  },
  {
   "cell_type": "code",
   "execution_count": 12,
   "id": "5e3ec8dd-92a7-471b-ba65-28fb229811df",
   "metadata": {
    "tags": []
   },
   "outputs": [],
   "source": [
    "bank = bank_account(700)"
   ]
  },
  {
   "cell_type": "code",
   "execution_count": 13,
   "id": "bce5e46c-b241-4240-bf35-06fba8e58d99",
   "metadata": {
    "tags": []
   },
   "outputs": [],
   "source": [
    "bank.deposit(100)"
   ]
  },
  {
   "cell_type": "code",
   "execution_count": 14,
   "id": "55c4c123-212b-4b3d-bd59-1b8ffc3ee8f8",
   "metadata": {
    "tags": []
   },
   "outputs": [
    {
     "data": {
      "text/plain": [
       "800"
      ]
     },
     "execution_count": 14,
     "metadata": {},
     "output_type": "execute_result"
    }
   ],
   "source": [
    "bank.get_banalnce()"
   ]
  },
  {
   "cell_type": "code",
   "execution_count": 17,
   "id": "cc3c2e27-ff3d-48d6-a5cd-15cc40195b6e",
   "metadata": {
    "tags": []
   },
   "outputs": [
    {
     "data": {
      "text/plain": [
       "False"
      ]
     },
     "execution_count": 17,
     "metadata": {},
     "output_type": "execute_result"
    }
   ],
   "source": [
    "bank.withdaw(500)"
   ]
  },
  {
   "cell_type": "code",
   "execution_count": 20,
   "id": "eead6d36-0551-46be-9b68-3600704e017d",
   "metadata": {
    "tags": []
   },
   "outputs": [
    {
     "data": {
      "text/plain": [
       "300"
      ]
     },
     "execution_count": 20,
     "metadata": {},
     "output_type": "execute_result"
    }
   ],
   "source": [
    "bank.get_banalnce()"
   ]
  },
  {
   "cell_type": "code",
   "execution_count": 22,
   "id": "44fd796e-5227-436e-b4fd-712eede3ffb5",
   "metadata": {
    "tags": []
   },
   "outputs": [
    {
     "name": "stdout",
     "output_type": "stream",
     "text": [
      "Woof!\n",
      "Meow!\n"
     ]
    }
   ],
   "source": [
    "# The \"abc\" module in Python stands for \"Abstract Base Classes\". \n",
    "# It provides a way to define abstract classes in Python.\n",
    "# The \"abc\" module is used to define abstract classes and abstract methods in Python. \n",
    "# The module provides a base class called \"ABC\" that can be used to define abstract classes.\n",
    "from abc import ABC, abstractmethod\n",
    "\n",
    "class Animal(ABC):\n",
    "    @abstractmethod\n",
    "    def speak(self):\n",
    "        pass\n",
    "\n",
    "class Dog(Animal):\n",
    "    def speak(self):\n",
    "        return \"Woof!\"\n",
    "\n",
    "class Cat(Animal):\n",
    "    def speak(self):\n",
    "        return \"Meow!\"\n",
    "\n",
    "animals = [Dog(), Cat()]\n",
    "for animal in animals:\n",
    "    print(animal.speak())\n"
   ]
  },
  {
   "cell_type": "code",
   "execution_count": 23,
   "id": "c3c50a40-f2c3-4db6-af37-aa608cf4a223",
   "metadata": {
    "tags": []
   },
   "outputs": [],
   "source": [
    "# Data abstraction is the process of representing complex data in a simplified manner so that\n",
    "# only the essential details are shown and the unnecessary details are hidden.\n",
    "# It is achieved in Object-Oriented Programming (OOP) by using the following techniques:\n",
    "# 1: Encapsulation\n",
    "# 2: Abstract classes\n"
   ]
  },
  {
   "cell_type": "code",
   "execution_count": 24,
   "id": "1d817584-3fe2-4298-b4fc-d9ec49b1c6a2",
   "metadata": {
    "tags": []
   },
   "outputs": [
    {
     "name": "stdout",
     "output_type": "stream",
     "text": [
      "12\n"
     ]
    }
   ],
   "source": [
    "# No, we cannot create an instance of an abstract class in Python.\n",
    "from abc import ABC, abstractmethod\n",
    "\n",
    "class Shape(ABC):\n",
    "    @abstractmethod\n",
    "    def area(self):\n",
    "        pass\n",
    "\n",
    "class Rectangle(Shape):\n",
    "    def __init__(self, width, height):\n",
    "        self.width = width\n",
    "        self.height = height\n",
    "    \n",
    "    def area(self):\n",
    "        return self.width * self.height\n",
    "\n",
    "r = Rectangle(3, 4)\n",
    "print(r.area())  # Output: 12\n"
   ]
  }
 ],
 "metadata": {
  "kernelspec": {
   "display_name": "Python 3 (ipykernel)",
   "language": "python",
   "name": "python3"
  },
  "language_info": {
   "codemirror_mode": {
    "name": "ipython",
    "version": 3
   },
   "file_extension": ".py",
   "mimetype": "text/x-python",
   "name": "python",
   "nbconvert_exporter": "python",
   "pygments_lexer": "ipython3",
   "version": "3.10.0"
  }
 },
 "nbformat": 4,
 "nbformat_minor": 5
}
